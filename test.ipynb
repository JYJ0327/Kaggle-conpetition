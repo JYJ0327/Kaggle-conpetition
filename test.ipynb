{
 "cells": [
  {
   "cell_type": "code",
   "execution_count": 1,
   "id": "7cc1b21d",
   "metadata": {},
   "outputs": [],
   "source": [
    "#!/usr/bin/env python\n",
    "# coding: utf-8\n",
    "\n",
    "# In[7]:\n",
    "\n",
    "\n",
    "#! python3\n",
    "# -*- encoding: utf-8 -*-\n",
    "'''\n",
    "@Time    :   2023/05/15 \n",
    "@Author  :   Jin Yujun\n",
    "@Version :   2.0\n",
    "@Contact :   13738026651@163.com\n",
    "'''\n",
    "\n",
    "#测试\n",
    "import os\n",
    "os.environ['CUDA_VISIBLE_DEVICES'] = '5'"
   ]
  },
  {
   "cell_type": "code",
   "execution_count": 2,
   "id": "6c5efe2c",
   "metadata": {},
   "outputs": [
    {
     "name": "stderr",
     "output_type": "stream",
     "text": [
      "/home/jinyujun/anaconda3/envs/pytorch/lib/python3.7/site-packages/IPython/html.py:14: ShimWarning: The `IPython.html` package has been deprecated since IPython 4.0. You should import from `notebook` instead. `IPython.html.widgets` has moved to `ipywidgets`.\n",
      "  \"`IPython.html.widgets` has moved to `ipywidgets`.\", ShimWarning)\n",
      "/home/jinyujun/anaconda3/envs/pytorch/lib/python3.7/site-packages/tqdm/auto.py:21: TqdmWarning: IProgress not found. Please update jupyter and ipywidgets. See https://ipywidgets.readthedocs.io/en/stable/user_install.html\n",
      "  from .autonotebook import tqdm as notebook_tqdm\n"
     ]
    }
   ],
   "source": [
    "import torch\n",
    "from torch.utils.data import DataLoader,Dataset\n",
    "import pandas as pd\n",
    "import numpy as np\n",
    "import torch.nn as nn\n",
    "from transformers import BertModel\n",
    "import os"
   ]
  },
  {
   "cell_type": "code",
   "execution_count": 3,
   "id": "ac57781e",
   "metadata": {},
   "outputs": [],
   "source": [
    "CUDA=torch.cuda.is_available()\n",
    "devices  = torch.device('cuda' if CUDA else 'cpu')\n",
    "\n",
    "data_tensor = np.load('sentences_tokenizer_test.npy',allow_pickle=True)\n",
    "for key in data_tensor.item():\n",
    "    data_tensor.item()[key] = data_tensor.item()[key].to(devices)\n"
   ]
  },
  {
   "cell_type": "code",
   "execution_count": 4,
   "id": "2c7157b1",
   "metadata": {},
   "outputs": [],
   "source": [
    "class DisasterDataset(Dataset):\n",
    "    def __init__(self,data):\n",
    "        self.data = data.item()\n",
    "\n",
    "    def __getitem__(self, idx):\n",
    "        sentences = {}\n",
    "        sentences['input_ids'] = self.data['input_ids'][idx]\n",
    "        sentences['attention_mask'] = self.data['attention_mask'][idx]\n",
    "        \n",
    "        return sentences\n",
    "    def __len__(self):\n",
    "        return len(self.data['input_ids'])\n",
    "\n",
    "class BertClassificationModel(nn.Module):\n",
    "    def __init__(self,dropout,hidden_size=768):\n",
    "        super(BertClassificationModel, self).__init__()\n",
    "        \n",
    "        model_name = 'bert-base-uncased'\n",
    "        self.bert = BertModel.from_pretrained(pretrained_model_name_or_path=model_name)\n",
    "        self.fc = nn.Linear(hidden_size,2)\n",
    "\n",
    "    def forward(self, batch_sentences):   # [batch_size,1]\n",
    "        \n",
    "        input_ids = batch_sentences['input_ids']\n",
    "        attention_mask = batch_sentences['attention_mask']\n",
    "        bert_out=self.bert(input_ids=input_ids,attention_mask=attention_mask) # 模型\n",
    "        last_hidden_state =bert_out[0] # [batch_size, sequence_length, hidden_size] # 变量\n",
    "        bert_cls_hidden_state=last_hidden_state[:,0,:] # 变量\n",
    "        fc_out=self.fc(bert_cls_hidden_state) # 模型\n",
    "        return fc_out        "
   ]
  },
  {
   "cell_type": "code",
   "execution_count": 5,
   "id": "c1b5aeb8",
   "metadata": {},
   "outputs": [
    {
     "name": "stderr",
     "output_type": "stream",
     "text": [
      "Some weights of the model checkpoint at bert-base-uncased were not used when initializing BertModel: ['cls.predictions.bias', 'cls.predictions.decoder.weight', 'cls.predictions.transform.dense.weight', 'cls.predictions.transform.LayerNorm.bias', 'cls.predictions.transform.LayerNorm.weight', 'cls.seq_relationship.weight', 'cls.predictions.transform.dense.bias', 'cls.seq_relationship.bias']\n",
      "- This IS expected if you are initializing BertModel from the checkpoint of a model trained on another task or with another architecture (e.g. initializing a BertForSequenceClassification model from a BertForPreTraining model).\n",
      "- This IS NOT expected if you are initializing BertModel from the checkpoint of a model that you expect to be exactly identical (initializing a BertForSequenceClassification model from a BertForSequenceClassification model).\n"
     ]
    }
   ],
   "source": [
    "model = BertClassificationModel(0.3)\n",
    "model = nn.DataParallel(model).to(devices)"
   ]
  },
  {
   "cell_type": "code",
   "execution_count": 6,
   "id": "e2da45b4",
   "metadata": {},
   "outputs": [
    {
     "data": {
      "text/plain": [
       "<All keys matched successfully>"
      ]
     },
     "execution_count": 6,
     "metadata": {},
     "output_type": "execute_result"
    }
   ],
   "source": [
    "model.load_state_dict(torch.load('model.pth'))"
   ]
  },
  {
   "cell_type": "code",
   "execution_count": 17,
   "id": "f9fb8bdf",
   "metadata": {},
   "outputs": [],
   "source": [
    "batchsize = 128  # 定义每次放多少个数据参加训练\n",
    "    \n",
    "Datas = DisasterDataset(data_tensor) # 加载训练集\n",
    "test_loader = torch.utils.data.DataLoader(Datas, batch_size=batchsize, shuffle=False)#遍历train_dataloader 每次返回batch_size条数据\n",
    "\n",
    "model.eval()  # 不启用 BatchNormalization 和 Dropout，保证BN和dropout不发生变化,主要是在测试场景下使用；\n",
    "label = []\n",
    "for j, data in enumerate(test_loader, 0):\n",
    "    #data = data.to(devices)\n",
    "    output = model(data)\n",
    "    out = output.argmax(dim=1)\n",
    "    out=out.tolist()\n",
    "    label.extend(out)\n",
    "\n"
   ]
  },
  {
   "cell_type": "code",
   "execution_count": 25,
   "id": "9829a99e",
   "metadata": {},
   "outputs": [],
   "source": [
    "label = pd.DataFrame(label)\n",
    "ids = pd.read_csv('test.csv')#这里因为测试集的id不是连续的！！！所以需要读取一下\n",
    "ids = ids.iloc[:,1]\n",
    "label = pd.concat([ids,label],axis=1)\n",
    "fieldname = ['id','target']\n",
    "label.to_csv(\"submission.csv\",index_label = fieldname)"
   ]
  },
  {
   "cell_type": "code",
   "execution_count": 9,
   "id": "da9fcb9a",
   "metadata": {},
   "outputs": [
    {
     "name": "stderr",
     "output_type": "stream",
     "text": [
      "/home/jinyujun/anaconda3/envs/pytorch/lib/python3.7/site-packages/ipykernel_launcher.py:1: VisibleDeprecationWarning: Creating an ndarray from ragged nested sequences (which is a list-or-tuple of lists-or-tuples-or ndarrays with different lengths or shapes) is deprecated. If you meant to do this, you must specify 'dtype=object' when creating the ndarray.\n",
      "  \"\"\"Entry point for launching an IPython kernel.\n"
     ]
    }
   ],
   "source": []
  },
  {
   "cell_type": "code",
   "execution_count": 24,
   "id": "5c5eb536",
   "metadata": {},
   "outputs": [
    {
     "name": "stdout",
     "output_type": "stream",
     "text": [
      "      0\n",
      "0     1\n",
      "1     1\n",
      "2     1\n",
      "3     1\n",
      "4     1\n",
      "...  ..\n",
      "3258  1\n",
      "3259  1\n",
      "3260  1\n",
      "3261  1\n",
      "3262  1\n",
      "\n",
      "[3263 rows x 1 columns]\n"
     ]
    }
   ],
   "source": [
    "print(label)"
   ]
  },
  {
   "cell_type": "code",
   "execution_count": 10,
   "id": "1430372a",
   "metadata": {},
   "outputs": [],
   "source": [
    "label = pd.read_csv('submission.csv')\n",
    "ids = pd.read_csv('df_test.csv')"
   ]
  },
  {
   "cell_type": "code",
   "execution_count": 11,
   "id": "4958c31e",
   "metadata": {},
   "outputs": [],
   "source": [
    "label = label.iloc[:,1]\n",
    "ids = ids.iloc[:,1]"
   ]
  },
  {
   "cell_type": "code",
   "execution_count": 13,
   "id": "da3b6cb9",
   "metadata": {},
   "outputs": [],
   "source": [
    "label = pd.concat([ids,label],axis=1)"
   ]
  },
  {
   "cell_type": "code",
   "execution_count": 15,
   "id": "27c1617c",
   "metadata": {},
   "outputs": [],
   "source": [
    "label = label.to_csv('submission.csv',index=False)"
   ]
  },
  {
   "cell_type": "code",
   "execution_count": 14,
   "id": "201c53d4",
   "metadata": {},
   "outputs": [
    {
     "data": {
      "text/html": [
       "<div>\n",
       "<style scoped>\n",
       "    .dataframe tbody tr th:only-of-type {\n",
       "        vertical-align: middle;\n",
       "    }\n",
       "\n",
       "    .dataframe tbody tr th {\n",
       "        vertical-align: top;\n",
       "    }\n",
       "\n",
       "    .dataframe thead th {\n",
       "        text-align: right;\n",
       "    }\n",
       "</style>\n",
       "<table border=\"1\" class=\"dataframe\">\n",
       "  <thead>\n",
       "    <tr style=\"text-align: right;\">\n",
       "      <th></th>\n",
       "      <th>id</th>\n",
       "      <th>target</th>\n",
       "    </tr>\n",
       "  </thead>\n",
       "  <tbody>\n",
       "    <tr>\n",
       "      <th>0</th>\n",
       "      <td>0</td>\n",
       "      <td>1</td>\n",
       "    </tr>\n",
       "    <tr>\n",
       "      <th>1</th>\n",
       "      <td>2</td>\n",
       "      <td>1</td>\n",
       "    </tr>\n",
       "    <tr>\n",
       "      <th>2</th>\n",
       "      <td>3</td>\n",
       "      <td>1</td>\n",
       "    </tr>\n",
       "    <tr>\n",
       "      <th>3</th>\n",
       "      <td>9</td>\n",
       "      <td>1</td>\n",
       "    </tr>\n",
       "    <tr>\n",
       "      <th>4</th>\n",
       "      <td>11</td>\n",
       "      <td>1</td>\n",
       "    </tr>\n",
       "    <tr>\n",
       "      <th>...</th>\n",
       "      <td>...</td>\n",
       "      <td>...</td>\n",
       "    </tr>\n",
       "    <tr>\n",
       "      <th>3258</th>\n",
       "      <td>10861</td>\n",
       "      <td>1</td>\n",
       "    </tr>\n",
       "    <tr>\n",
       "      <th>3259</th>\n",
       "      <td>10865</td>\n",
       "      <td>1</td>\n",
       "    </tr>\n",
       "    <tr>\n",
       "      <th>3260</th>\n",
       "      <td>10868</td>\n",
       "      <td>1</td>\n",
       "    </tr>\n",
       "    <tr>\n",
       "      <th>3261</th>\n",
       "      <td>10874</td>\n",
       "      <td>1</td>\n",
       "    </tr>\n",
       "    <tr>\n",
       "      <th>3262</th>\n",
       "      <td>10875</td>\n",
       "      <td>1</td>\n",
       "    </tr>\n",
       "  </tbody>\n",
       "</table>\n",
       "<p>3263 rows × 2 columns</p>\n",
       "</div>"
      ],
      "text/plain": [
       "         id  target\n",
       "0         0       1\n",
       "1         2       1\n",
       "2         3       1\n",
       "3         9       1\n",
       "4        11       1\n",
       "...     ...     ...\n",
       "3258  10861       1\n",
       "3259  10865       1\n",
       "3260  10868       1\n",
       "3261  10874       1\n",
       "3262  10875       1\n",
       "\n",
       "[3263 rows x 2 columns]"
      ]
     },
     "execution_count": 14,
     "metadata": {},
     "output_type": "execute_result"
    }
   ],
   "source": []
  },
  {
   "cell_type": "code",
   "execution_count": null,
   "id": "6ef3f29f",
   "metadata": {},
   "outputs": [],
   "source": []
  }
 ],
 "metadata": {
  "kernelspec": {
   "display_name": "Python [conda env:pytorch] *",
   "language": "python",
   "name": "conda-env-pytorch-py"
  },
  "language_info": {
   "codemirror_mode": {
    "name": "ipython",
    "version": 3
   },
   "file_extension": ".py",
   "mimetype": "text/x-python",
   "name": "python",
   "nbconvert_exporter": "python",
   "pygments_lexer": "ipython3",
   "version": "3.7.16"
  }
 },
 "nbformat": 4,
 "nbformat_minor": 5
}
